{
 "cells": [
  {
   "cell_type": "markdown",
   "id": "e4d5bdbd-3791-44be-a175-f9d287b84e02",
   "metadata": {},
   "source": [
    "1 + 2 /3"
   ]
  },
  {
   "cell_type": "markdown",
   "id": "7faae8b1-798f-44c2-af3c-b407e33142c5",
   "metadata": {},
   "source": [
    "MY TITLE"
   ]
  },
  {
   "cell_type": "markdown",
   "id": "adf9ae9b-7462-47e1-be49-5fe92ca71ba2",
   "metadata": {},
   "source": []
  },
  {
   "cell_type": "markdown",
   "id": "a966a68b-7b10-4e40-9fec-cf84dafc201f",
   "metadata": {},
   "source": [
    "MY NAME IS AJAY "
   ]
  },
  {
   "cell_type": "markdown",
   "id": "d193dbe6-8c58-4013-8958-ed5533e3f8e5",
   "metadata": {},
   "source": []
  }
 ],
 "metadata": {
  "kernelspec": {
   "display_name": "Python",
   "language": "python",
   "name": "conda-env-python-py"
  },
  "language_info": {
   "codemirror_mode": {
    "name": "ipython",
    "version": 3
   },
   "file_extension": ".py",
   "mimetype": "text/x-python",
   "name": "python",
   "nbconvert_exporter": "python",
   "pygments_lexer": "ipython3",
   "version": "3.7.10"
  }
 },
 "nbformat": 4,
 "nbformat_minor": 5
}
